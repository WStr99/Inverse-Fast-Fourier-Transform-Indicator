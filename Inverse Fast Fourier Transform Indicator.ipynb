{
 "cells": [
  {
   "cell_type": "markdown",
   "metadata": {},
   "source": [
    "# Inverse Fast Fourier Transform Indicator"
   ]
  },
  {
   "cell_type": "markdown",
   "metadata": {},
   "source": [
    "The goal of this program is to design a zero-lag moving average indicator. An inverse fast fourier transform is used with signal padding and a rolling window. The result is a smoothed moving average with lower lag than any other moving average calculation. "
   ]
  },
  {
   "cell_type": "markdown",
   "metadata": {},
   "source": [
    "### Import libraries"
   ]
  },
  {
   "cell_type": "code",
   "execution_count": 2,
   "metadata": {},
   "outputs": [],
   "source": [
    "import os \n",
    "import sys\n",
    "import time\n",
    "import datetime\n",
    "import yfinance as yf\n",
    "import pandas as pd\n",
    "import matplotlib.pyplot as plt\n",
    "import numpy as np\n",
    "import warnings\n",
    "warnings.filterwarnings('ignore')"
   ]
  },
  {
   "cell_type": "markdown",
   "metadata": {},
   "source": [
    "### Download Stock Data"
   ]
  },
  {
   "cell_type": "markdown",
   "metadata": {},
   "source": [
    "Download data from Yahoo Finance. Put data into a pandas datafame."
   ]
  },
  {
   "cell_type": "code",
   "execution_count": 48,
   "metadata": {},
   "outputs": [
    {
     "name": "stdout",
     "output_type": "stream",
     "text": [
      "[*********************100%***********************]  1 of 1 completed\n"
     ]
    },
    {
     "data": {
      "text/html": [
       "<div>\n",
       "<style scoped>\n",
       "    .dataframe tbody tr th:only-of-type {\n",
       "        vertical-align: middle;\n",
       "    }\n",
       "\n",
       "    .dataframe tbody tr th {\n",
       "        vertical-align: top;\n",
       "    }\n",
       "\n",
       "    .dataframe thead th {\n",
       "        text-align: right;\n",
       "    }\n",
       "</style>\n",
       "<table border=\"1\" class=\"dataframe\">\n",
       "  <thead>\n",
       "    <tr style=\"text-align: right;\">\n",
       "      <th></th>\n",
       "      <th>Open</th>\n",
       "      <th>High</th>\n",
       "      <th>Low</th>\n",
       "      <th>Close</th>\n",
       "      <th>Adj Close</th>\n",
       "      <th>Volume</th>\n",
       "    </tr>\n",
       "    <tr>\n",
       "      <th>Date</th>\n",
       "      <th></th>\n",
       "      <th></th>\n",
       "      <th></th>\n",
       "      <th></th>\n",
       "      <th></th>\n",
       "      <th></th>\n",
       "    </tr>\n",
       "  </thead>\n",
       "  <tbody>\n",
       "    <tr>\n",
       "      <th>2024-02-01</th>\n",
       "      <td>188.500000</td>\n",
       "      <td>189.880005</td>\n",
       "      <td>184.279999</td>\n",
       "      <td>188.860001</td>\n",
       "      <td>188.860001</td>\n",
       "      <td>91843300</td>\n",
       "    </tr>\n",
       "    <tr>\n",
       "      <th>2024-02-02</th>\n",
       "      <td>185.039993</td>\n",
       "      <td>188.690002</td>\n",
       "      <td>182.000000</td>\n",
       "      <td>187.910004</td>\n",
       "      <td>187.910004</td>\n",
       "      <td>110505100</td>\n",
       "    </tr>\n",
       "    <tr>\n",
       "      <th>2024-02-05</th>\n",
       "      <td>184.259995</td>\n",
       "      <td>184.679993</td>\n",
       "      <td>175.009995</td>\n",
       "      <td>181.059998</td>\n",
       "      <td>181.059998</td>\n",
       "      <td>134294400</td>\n",
       "    </tr>\n",
       "    <tr>\n",
       "      <th>2024-02-06</th>\n",
       "      <td>177.210007</td>\n",
       "      <td>186.490005</td>\n",
       "      <td>177.110001</td>\n",
       "      <td>185.100006</td>\n",
       "      <td>185.100006</td>\n",
       "      <td>122676000</td>\n",
       "    </tr>\n",
       "    <tr>\n",
       "      <th>2024-02-07</th>\n",
       "      <td>188.179993</td>\n",
       "      <td>189.789993</td>\n",
       "      <td>182.679993</td>\n",
       "      <td>187.580002</td>\n",
       "      <td>187.580002</td>\n",
       "      <td>111535200</td>\n",
       "    </tr>\n",
       "    <tr>\n",
       "      <th>...</th>\n",
       "      <td>...</td>\n",
       "      <td>...</td>\n",
       "      <td>...</td>\n",
       "      <td>...</td>\n",
       "      <td>...</td>\n",
       "      <td>...</td>\n",
       "    </tr>\n",
       "    <tr>\n",
       "      <th>2024-06-24</th>\n",
       "      <td>184.970001</td>\n",
       "      <td>188.800003</td>\n",
       "      <td>182.550003</td>\n",
       "      <td>182.580002</td>\n",
       "      <td>182.580002</td>\n",
       "      <td>61992100</td>\n",
       "    </tr>\n",
       "    <tr>\n",
       "      <th>2024-06-25</th>\n",
       "      <td>184.399994</td>\n",
       "      <td>187.970001</td>\n",
       "      <td>182.009995</td>\n",
       "      <td>187.350006</td>\n",
       "      <td>187.350006</td>\n",
       "      <td>63678300</td>\n",
       "    </tr>\n",
       "    <tr>\n",
       "      <th>2024-06-26</th>\n",
       "      <td>186.539993</td>\n",
       "      <td>197.759995</td>\n",
       "      <td>186.360001</td>\n",
       "      <td>196.369995</td>\n",
       "      <td>196.369995</td>\n",
       "      <td>95737100</td>\n",
       "    </tr>\n",
       "    <tr>\n",
       "      <th>2024-06-27</th>\n",
       "      <td>195.169998</td>\n",
       "      <td>198.720001</td>\n",
       "      <td>194.050003</td>\n",
       "      <td>197.419998</td>\n",
       "      <td>197.419998</td>\n",
       "      <td>72746500</td>\n",
       "    </tr>\n",
       "    <tr>\n",
       "      <th>2024-06-28</th>\n",
       "      <td>199.550003</td>\n",
       "      <td>203.199997</td>\n",
       "      <td>195.259995</td>\n",
       "      <td>197.880005</td>\n",
       "      <td>197.880005</td>\n",
       "      <td>95438100</td>\n",
       "    </tr>\n",
       "  </tbody>\n",
       "</table>\n",
       "<p>103 rows × 6 columns</p>\n",
       "</div>"
      ],
      "text/plain": [
       "                  Open        High         Low       Close   Adj Close  \\\n",
       "Date                                                                     \n",
       "2024-02-01  188.500000  189.880005  184.279999  188.860001  188.860001   \n",
       "2024-02-02  185.039993  188.690002  182.000000  187.910004  187.910004   \n",
       "2024-02-05  184.259995  184.679993  175.009995  181.059998  181.059998   \n",
       "2024-02-06  177.210007  186.490005  177.110001  185.100006  185.100006   \n",
       "2024-02-07  188.179993  189.789993  182.679993  187.580002  187.580002   \n",
       "...                ...         ...         ...         ...         ...   \n",
       "2024-06-24  184.970001  188.800003  182.550003  182.580002  182.580002   \n",
       "2024-06-25  184.399994  187.970001  182.009995  187.350006  187.350006   \n",
       "2024-06-26  186.539993  197.759995  186.360001  196.369995  196.369995   \n",
       "2024-06-27  195.169998  198.720001  194.050003  197.419998  197.419998   \n",
       "2024-06-28  199.550003  203.199997  195.259995  197.880005  197.880005   \n",
       "\n",
       "               Volume  \n",
       "Date                   \n",
       "2024-02-01   91843300  \n",
       "2024-02-02  110505100  \n",
       "2024-02-05  134294400  \n",
       "2024-02-06  122676000  \n",
       "2024-02-07  111535200  \n",
       "...               ...  \n",
       "2024-06-24   61992100  \n",
       "2024-06-25   63678300  \n",
       "2024-06-26   95737100  \n",
       "2024-06-27   72746500  \n",
       "2024-06-28   95438100  \n",
       "\n",
       "[103 rows x 6 columns]"
      ]
     },
     "execution_count": 48,
     "metadata": {},
     "output_type": "execute_result"
    }
   ],
   "source": [
    "# Define the stock ticker symbol\n",
    "ticker_symbol = 'NVDA'\n",
    "\n",
    "# Download stock data\n",
    "stock_data = yf.download(ticker_symbol, start='2024-02-01', end='2024-07-01')\n",
    "\n",
    "stock_data"
   ]
  },
  {
   "cell_type": "markdown",
   "metadata": {},
   "source": [
    "### IFFT Indicator calculation"
   ]
  },
  {
   "cell_type": "markdown",
   "metadata": {},
   "source": [
    "Signal padding reduces extreme values at the tails."
   ]
  },
  {
   "cell_type": "code",
   "execution_count": 49,
   "metadata": {},
   "outputs": [],
   "source": [
    "# IFFT Indicator with Padding\n",
    "def ifft_indicator(prices, threshold):\n",
    "    n = len(prices)\n",
    "    \n",
    "    # Pad the prices with reflection at both ends\n",
    "    padding_size = int(n * 0.5)  # 10% of the size for padding\n",
    "    padded_prices = np.pad(prices, (padding_size, padding_size), mode='reflect')\n",
    "\n",
    "    fft_transformed = np.fft.fft(padded_prices)\n",
    "    fft_filtered = np.zeros_like(fft_transformed)\n",
    "\n",
    "    retain_length = int(threshold * len(padded_prices))\n",
    "    fft_filtered[:retain_length] = fft_transformed[:retain_length]\n",
    "    fft_filtered[-retain_length:] = fft_transformed[-retain_length:]\n",
    "\n",
    "    ifft_transformed = np.fft.ifft(fft_filtered).real\n",
    "\n",
    "    # Remove padding\n",
    "    ifft_transformed = ifft_transformed[padding_size:-padding_size]\n",
    "\n",
    "    return ifft_transformed"
   ]
  },
  {
   "cell_type": "code",
   "execution_count": 98,
   "metadata": {},
   "outputs": [],
   "source": [
    "# Calculate IFFT\n",
    "n = len(stock_data)\n",
    "window_size = min(20, n)\n",
    "\n",
    "stock_data['IFFT Window'] = np.nan\n",
    "\n",
    "for i in range(len(stock_data) - window_size):\n",
    "        \n",
    "    window_data = stock_data[i: i+window_size]\n",
    "\n",
    "    window_closing_prices = window_data['Close'].values\n",
    "\n",
    "    window_ifft_result = ifft_indicator(window_closing_prices, threshold=0.07)\n",
    "\n",
    "    stock_data['IFFT Window'].iloc[i+window_size] = window_ifft_result[-1]\n",
    "\n",
    "# Add IFFT result to the DataFrame\n",
    "stock_data['IFFT'] = ifft_result"
   ]
  },
  {
   "cell_type": "code",
   "execution_count": 99,
   "metadata": {},
   "outputs": [
    {
     "data": {
      "image/png": "[encoded data removed]",
      "text/plain": [
       "<Figure size 864x432 with 1 Axes>"
      ]
     },
     "metadata": {
      "needs_background": "light"
     },
     "output_type": "display_data"
    }
   ],
   "source": [
    "# Plot results\n",
    "plt.figure(figsize=(12, 6))\n",
    "plt.plot(stock_data.index, stock_data['Close'], label='Original Closing Prices', color='blue')\n",
    "plt.plot(stock_data.index, stock_data['IFFT Window'], label='IFFT Indicator', color='orange', linestyle='--')\n",
    "\n",
    "plt.xlabel('Date')\n",
    "plt.ylabel('Price')\n",
    "plt.legend()\n",
    "plt.grid()\n",
    "plt.show()"
   ]
  },
  {
   "cell_type": "code",
   "execution_count": null,
   "metadata": {},
   "outputs": [],
   "source": []
  }
 ],
 "metadata": {
  "kernelspec": {
   "display_name": "Python 3",
   "language": "python",
   "name": "python3"
  },
  "language_info": {
   "codemirror_mode": {
    "name": "ipython",
    "version": 3
   },
   "file_extension": ".py",
   "mimetype": "text/x-python",
   "name": "python",
   "nbconvert_exporter": "python",
   "pygments_lexer": "ipython3",
   "version": "3.8.1"
  }
 },
 "nbformat": 4,
 "nbformat_minor": 4
}
